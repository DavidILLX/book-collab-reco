{
 "cells": [
  {
   "cell_type": "code",
   "execution_count": 1,
   "id": "78241187",
   "metadata": {},
   "outputs": [],
   "source": [
    "import pandas as pd\n",
    "import numpy as np\n",
    "import re\n",
    "import os\n",
    "import logging"
   ]
  },
  {
   "cell_type": "code",
   "execution_count": 39,
   "id": "491e7e9b",
   "metadata": {},
   "outputs": [
    {
     "name": "stderr",
     "output_type": "stream",
     "text": [
      "C:\\Users\\tomas\\AppData\\Local\\Temp\\ipykernel_10124\\2638243751.py:1: DtypeWarning: Columns (3) have mixed types. Specify dtype option on import or set low_memory=False.\n",
      "  df = pd.read_csv(\"db_init/data/Books.csv\", sep=\",\", encoding=\"UTF-8\")\n"
     ]
    }
   ],
   "source": [
    "df = pd.read_csv(\"db_init/data/Books.csv\", sep=\",\", encoding=\"UTF-8\")\n",
    "dfr = pd.read_csv(\"db_init/data/Ratings.csv\", sep=\",\", encoding=\"UTF-8\")\n",
    "dfu = pd.read_csv(\"db_init/data/Users.csv\", sep=\",\", encoding=\"UTF-8\")"
   ]
  },
  {
   "cell_type": "code",
   "execution_count": 2,
   "id": "a0ed710a",
   "metadata": {},
   "outputs": [
    {
     "name": "stderr",
     "output_type": "stream",
     "text": [
      "WARNING:root:Remain calm!\n"
     ]
    }
   ],
   "source": [
    "logging.warning(\"Remain calm!\")"
   ]
  },
  {
   "cell_type": "code",
   "execution_count": 3,
   "id": "80d78af4",
   "metadata": {},
   "outputs": [],
   "source": [
    "directory_name = \"mummy\"\n",
    "os.mkdir(directory_name)"
   ]
  },
  {
   "cell_type": "code",
   "execution_count": 4,
   "id": "962d6f68",
   "metadata": {},
   "outputs": [],
   "source": [
    "def fix_special_characters(text):\n",
    "\n",
    "    # Mapa pro opravy specifických znaků\n",
    "    char_map = {\n",
    "        # Běžné Latin-1/CP1252 znaky čtené jako UTF-8\n",
    "        'Ã©': 'é',\n",
    "        'Ã¨': 'è',\n",
    "        'Ã­': 'í',\n",
    "        'Ã§': 'ç',\n",
    "        'Ã³': 'ó',\n",
    "        'Ã¡': 'á',\n",
    "        'Ã´': 'ô',\n",
    "        'Ã¼': 'ü',\n",
    "        'Ã¶': 'ö',\n",
    "        'Ã½': 'ý',\n",
    "        'Ã£': 'ã',\n",
    "        'Ãº': 'ú',\n",
    "\n",
    "        # Běžné Latin-1/CP1252 uppercase a ß čtené jako UTF-8 (často se zobrazí jako Ã? + znak)\n",
    "        'Ã?Â¤': 'ä', \n",
    "        'Ã?Â©': 'é', \n",
    "        'Ã?Â¼': 'ü', \n",
    "        'Ã?Â¶': 'ö', \n",
    "        'Ã?Â?': 'Ü', \n",
    "        'Ã?Â?': 'Ä', \n",
    "        'Ã?Â?': 'Ö', \n",
    "        'Ã?Â?': 'É', \n",
    "        'Ã?Â?': 'Á', \n",
    "        'Ã?Â?': 'Í', \n",
    "        'Ã?ÂŸ': 'ß', \n",
    "\n",
    "        # Další běžné mojibake vzory pro španělštinu\n",
    "        'Â¿': '¿', \n",
    "        'Â¡': '¡',\n",
    "\n",
    "        # České znaky\n",
    "        'ÄŤ': 'č',\n",
    "        'Å™': 'ř',\n",
    "        'Å¡': 'š',\n",
    "        'Å¾': 'ž',\n",
    "        'Ãº': 'ú', \n",
    "\n",
    "        # Příklad opravy pro 'Ã? sucesso solo 50 anni fa' - vypadá to, že 'Ã? ' by mělo být 'Il '\n",
    "        'Ã? ': 'Il ',\n",
    "    }\n",
    "\n",
    "    if isinstance(text, str):  # Zkontroluj, že text je řetězec\n",
    "        for wrong, correct in char_map.items():\n",
    "            text = text.replace(wrong, correct)\n",
    "    return text"
   ]
  },
  {
   "cell_type": "code",
   "execution_count": 5,
   "id": "80b59c65",
   "metadata": {},
   "outputs": [],
   "source": [
    "def vector(df):\n",
    "    # Mapa pro opravy specifických znaků\n",
    "    char_map = {\n",
    "        # Běžné Latin-1/CP1252 znaky čtené jako UTF-8\n",
    "        'Ã©': 'é',\n",
    "        'Ã¨': 'è',\n",
    "        'Ã­': 'í',\n",
    "        'Ã§': 'ç',\n",
    "        'Ã³': 'ó',\n",
    "        'Ã¡': 'á',\n",
    "        'Ã´': 'ô',\n",
    "        'Ã¼': 'ü',\n",
    "        'Ã¶': 'ö',\n",
    "        'Ã½': 'ý',\n",
    "        'Ã£': 'ã',\n",
    "        'Ãº': 'ú',\n",
    "        # Běžné Latin-1/CP1252 uppercase a ß čtené jako UTF-8 (často se zobrazí jako Ã? + znak)\n",
    "        'Ã?Â¤': 'ä', \n",
    "        'Ã?Â©': 'é', \n",
    "        'Ã?Â¼': 'ü', \n",
    "        'Ã?Â¶': 'ö', \n",
    "        'Ã?Â?': 'Ü', \n",
    "        'Ã?Â?': 'Ä', \n",
    "        'Ã?Â?': 'Ö', \n",
    "        'Ã?Â?': 'É', \n",
    "        'Ã?Â?': 'Á', \n",
    "        'Ã?Â?': 'Í', \n",
    "        'Ã?ÂŸ': 'ß', \n",
    "        # Další běžné mojibake vzory pro španělštinu\n",
    "        'Â¿': '¿', \n",
    "        'Â¡': '¡',\n",
    "        # České znaky\n",
    "        'ÄŤ': 'č',\n",
    "        'Å™': 'ř',\n",
    "        'Å¡': 'š',\n",
    "        'Å¾': 'ž',\n",
    "        'Ãº': 'ú', \n",
    "        # Příklad opravy pro 'Ã? sucesso solo 50 anni fa' - vypadá to, že 'Ã? ' by mělo být 'Il '\n",
    "        'Ã? ': 'Il ',\n",
    "    }\n",
    "\n",
    "    # Pracuj jen se sloupci typu object (text)\n",
    "    text_cols = df.select_dtypes(include=\"object\").columns\n",
    "\n",
    "    for col in text_cols:\n",
    "        for wrong, correct in char_map.items():\n",
    "            # Vektorizovaná náhrada znaků\n",
    "            df[col] = df[col].str.replace(wrong, correct, regex=False)\n",
    "    return df"
   ]
  },
  {
   "cell_type": "code",
   "execution_count": 34,
   "id": "b7c4381f",
   "metadata": {},
   "outputs": [],
   "source": [
    "def remove_special_characters_numpy(df):\n",
    "    pattern = r'[\\\\\"&amp;^\"$]'\n",
    "    cols = df.select_dtypes(include=\"object\").columns\n",
    "\n",
    "    for col in cols:\n",
    "        values = df[col].values.astype(str)  # convert to NumPy array of strings\n",
    "        mask = pd.Series(values).str.contains(pattern, regex=True).values  # boolean mask\n",
    "        cleaned = pd.Series(values).str.replace(pattern, '', regex=True).str.strip().values\n",
    "        df[col] = np.where(mask, cleaned, values)\n",
    "\n",
    "    return df"
   ]
  },
  {
   "cell_type": "code",
   "execution_count": 8,
   "id": "dbbb2afd",
   "metadata": {},
   "outputs": [
    {
     "name": "stdout",
     "output_type": "stream",
     "text": [
      "1.16 μs ± 10.4 ns per loop (mean ± std. dev. of 7 runs, 1,000,000 loops each)\n"
     ]
    }
   ],
   "source": [
    "%%timeit\n",
    "df2 = fix_special_characters(df)"
   ]
  },
  {
   "cell_type": "code",
   "execution_count": 9,
   "id": "fd98330c",
   "metadata": {},
   "outputs": [
    {
     "name": "stdout",
     "output_type": "stream",
     "text": [
      "7 s ± 24.3 ms per loop (mean ± std. dev. of 7 runs, 1 loop each)\n"
     ]
    }
   ],
   "source": [
    "%%timeit\n",
    "df2 = vector(df)"
   ]
  },
  {
   "cell_type": "code",
   "execution_count": 36,
   "id": "ecf7ef96",
   "metadata": {},
   "outputs": [
    {
     "name": "stdout",
     "output_type": "stream",
     "text": [
      "2.74 s ± 120 ms per loop (mean ± std. dev. of 7 runs, 1 loop each)\n"
     ]
    }
   ],
   "source": [
    "%%timeit\n",
    "df3 = remove_special_characters_numpy(df)"
   ]
  },
  {
   "cell_type": "code",
   "execution_count": null,
   "id": "51d35ab6",
   "metadata": {},
   "outputs": [],
   "source": [
    "def remove_characters(df):   \n",
    "    columns_to_change = df.select_dtypes(include=[\"object\"]).columns\n",
    "    df = df[columns_to_change].contains()\n",
    "\n",
    "    for col in columns_to_change:\n",
    "        df[col] = df[col].str.replace(r'[\\\\\"&amp;^\"$]', '\"', regex=True).str.strip('\"')\n",
    "    \n",
    "    return df"
   ]
  },
  {
   "cell_type": "code",
   "execution_count": null,
   "id": "f02c7944",
   "metadata": {},
   "outputs": [],
   "source": [
    "def remove_characters_vec(df):   \n",
    "    columns_to_change = df.select_dtypes(include=[\"object\"]).columns\n",
    "    #mask_specail_char = columns_to_change.str.contains(r'\\\\\"|\\\\|&amp;|^\"|\"$', regex=True)\n",
    "    # Vybereme všechny sloupce s textovými hodnotami\n",
    "    columns_to_change = df.select_dtypes(include=[\"object\"]).columns\n",
    "    \n",
    "    # Odstraníme speciální znaky z textových sloupců\n",
    "    for col in columns_to_change:\n",
    "        # Použijeme regex pro odstranění těchto znaků\n",
    "        df[col] = df[col].str.replace(r'[\\\\\"&amp;^\"$]', '', regex=True).str.strip()\n",
    "\n",
    "    return df"
   ]
  },
  {
   "cell_type": "code",
   "execution_count": 33,
   "id": "acf9d649",
   "metadata": {},
   "outputs": [
    {
     "name": "stdout",
     "output_type": "stream",
     "text": [
      "2 s ± 12.4 ms per loop (mean ± std. dev. of 7 runs, 1 loop each)\n"
     ]
    }
   ],
   "source": [
    "%%timeit\n",
    "df2 = remove_characters(df)"
   ]
  },
  {
   "cell_type": "code",
   "execution_count": 28,
   "id": "24ee6398",
   "metadata": {},
   "outputs": [
    {
     "name": "stdout",
     "output_type": "stream",
     "text": [
      "1.95 s ± 13.5 ms per loop (mean ± std. dev. of 7 runs, 1 loop each)\n"
     ]
    }
   ],
   "source": [
    "%%timeit\n",
    "df2_vec = remove_characters(df)"
   ]
  },
  {
   "cell_type": "code",
   "execution_count": 43,
   "id": "8446fc52",
   "metadata": {},
   "outputs": [],
   "source": [
    "def text_pre(df):\n",
    "    text_cols = df.select_dtypes(include=[\"object\"]).columns\n",
    "    text_cols = text_cols[~text_cols.str.contains(\"ISBN|URL\", regex=True)]\n",
    "\n",
    "    # Převede jen vybrané sloupce do NumPy array\n",
    "    arr = df[text_cols].to_numpy()\n",
    "\n",
    "    # Funkce pro čištění (vektorizovaná)\n",
    "    vectorized_clean = np.vectorize(lambda x: re.sub(r'[!@#$%^]', '', x))\n",
    "\n",
    "    # Aplikuj na celou matici\n",
    "    cleaned_arr = vectorized_clean(arr)\n",
    "\n",
    "    # Vrať zpět do DataFrame\n",
    "    df[text_cols] = cleaned_arr\n",
    "\n",
    "    return df"
   ]
  },
  {
   "cell_type": "code",
   "execution_count": 42,
   "id": "1c19a8de",
   "metadata": {},
   "outputs": [
    {
     "ename": "TypeError",
     "evalue": "expected string or bytes-like object, got 'float'",
     "output_type": "error",
     "traceback": [
      "\u001b[1;31m---------------------------------------------------------------------------\u001b[0m",
      "\u001b[1;31mTypeError\u001b[0m                                 Traceback (most recent call last)",
      "Cell \u001b[1;32mIn[42], line 1\u001b[0m\n\u001b[1;32m----> 1\u001b[0m get_ipython()\u001b[38;5;241m.\u001b[39mrun_cell_magic(\u001b[38;5;124m'\u001b[39m\u001b[38;5;124mtimeit\u001b[39m\u001b[38;5;124m'\u001b[39m, \u001b[38;5;124m'\u001b[39m\u001b[38;5;124m'\u001b[39m, \u001b[38;5;124m'\u001b[39m\u001b[38;5;124mdf4 = text_pre(df)\u001b[39m\u001b[38;5;130;01m\\n\u001b[39;00m\u001b[38;5;124m'\u001b[39m)\n",
      "File \u001b[1;32mc:\\Users\\tomas\\anaconda3\\Lib\\site-packages\\IPython\\core\\interactiveshell.py:2541\u001b[0m, in \u001b[0;36mInteractiveShell.run_cell_magic\u001b[1;34m(self, magic_name, line, cell)\u001b[0m\n\u001b[0;32m   2539\u001b[0m \u001b[38;5;28;01mwith\u001b[39;00m \u001b[38;5;28mself\u001b[39m\u001b[38;5;241m.\u001b[39mbuiltin_trap:\n\u001b[0;32m   2540\u001b[0m     args \u001b[38;5;241m=\u001b[39m (magic_arg_s, cell)\n\u001b[1;32m-> 2541\u001b[0m     result \u001b[38;5;241m=\u001b[39m fn(\u001b[38;5;241m*\u001b[39margs, \u001b[38;5;241m*\u001b[39m\u001b[38;5;241m*\u001b[39mkwargs)\n\u001b[0;32m   2543\u001b[0m \u001b[38;5;66;03m# The code below prevents the output from being displayed\u001b[39;00m\n\u001b[0;32m   2544\u001b[0m \u001b[38;5;66;03m# when using magics with decorator @output_can_be_silenced\u001b[39;00m\n\u001b[0;32m   2545\u001b[0m \u001b[38;5;66;03m# when the last Python token in the expression is a ';'.\u001b[39;00m\n\u001b[0;32m   2546\u001b[0m \u001b[38;5;28;01mif\u001b[39;00m \u001b[38;5;28mgetattr\u001b[39m(fn, magic\u001b[38;5;241m.\u001b[39mMAGIC_OUTPUT_CAN_BE_SILENCED, \u001b[38;5;28;01mFalse\u001b[39;00m):\n",
      "File \u001b[1;32mc:\\Users\\tomas\\anaconda3\\Lib\\site-packages\\IPython\\core\\magics\\execution.py:1185\u001b[0m, in \u001b[0;36mExecutionMagics.timeit\u001b[1;34m(self, line, cell, local_ns)\u001b[0m\n\u001b[0;32m   1183\u001b[0m \u001b[38;5;28;01mfor\u001b[39;00m index \u001b[38;5;129;01min\u001b[39;00m \u001b[38;5;28mrange\u001b[39m(\u001b[38;5;241m0\u001b[39m, \u001b[38;5;241m10\u001b[39m):\n\u001b[0;32m   1184\u001b[0m     number \u001b[38;5;241m=\u001b[39m \u001b[38;5;241m10\u001b[39m \u001b[38;5;241m*\u001b[39m\u001b[38;5;241m*\u001b[39m index\n\u001b[1;32m-> 1185\u001b[0m     time_number \u001b[38;5;241m=\u001b[39m timer\u001b[38;5;241m.\u001b[39mtimeit(number)\n\u001b[0;32m   1186\u001b[0m     \u001b[38;5;28;01mif\u001b[39;00m time_number \u001b[38;5;241m>\u001b[39m\u001b[38;5;241m=\u001b[39m \u001b[38;5;241m0.2\u001b[39m:\n\u001b[0;32m   1187\u001b[0m         \u001b[38;5;28;01mbreak\u001b[39;00m\n",
      "File \u001b[1;32mc:\\Users\\tomas\\anaconda3\\Lib\\site-packages\\IPython\\core\\magics\\execution.py:173\u001b[0m, in \u001b[0;36mTimer.timeit\u001b[1;34m(self, number)\u001b[0m\n\u001b[0;32m    171\u001b[0m gc\u001b[38;5;241m.\u001b[39mdisable()\n\u001b[0;32m    172\u001b[0m \u001b[38;5;28;01mtry\u001b[39;00m:\n\u001b[1;32m--> 173\u001b[0m     timing \u001b[38;5;241m=\u001b[39m \u001b[38;5;28mself\u001b[39m\u001b[38;5;241m.\u001b[39minner(it, \u001b[38;5;28mself\u001b[39m\u001b[38;5;241m.\u001b[39mtimer)\n\u001b[0;32m    174\u001b[0m \u001b[38;5;28;01mfinally\u001b[39;00m:\n\u001b[0;32m    175\u001b[0m     \u001b[38;5;28;01mif\u001b[39;00m gcold:\n",
      "File \u001b[1;32m<magic-timeit>:1\u001b[0m, in \u001b[0;36minner\u001b[1;34m(_it, _timer)\u001b[0m\n",
      "Cell \u001b[1;32mIn[38], line 12\u001b[0m, in \u001b[0;36mtext_pre\u001b[1;34m(df)\u001b[0m\n\u001b[0;32m      9\u001b[0m vectorized_clean \u001b[38;5;241m=\u001b[39m np\u001b[38;5;241m.\u001b[39mvectorize(\u001b[38;5;28;01mlambda\u001b[39;00m x: re\u001b[38;5;241m.\u001b[39msub(\u001b[38;5;124mr\u001b[39m\u001b[38;5;124m'\u001b[39m\u001b[38;5;124m[!@#$\u001b[39m\u001b[38;5;124m%\u001b[39m\u001b[38;5;124m^]\u001b[39m\u001b[38;5;124m'\u001b[39m, \u001b[38;5;124m'\u001b[39m\u001b[38;5;124m'\u001b[39m, x))\n\u001b[0;32m     11\u001b[0m \u001b[38;5;66;03m# Aplikuj na celou matici\u001b[39;00m\n\u001b[1;32m---> 12\u001b[0m cleaned_arr \u001b[38;5;241m=\u001b[39m vectorized_clean(arr)\n\u001b[0;32m     14\u001b[0m \u001b[38;5;66;03m# Vrať zpět do DataFrame\u001b[39;00m\n\u001b[0;32m     15\u001b[0m df[text_cols] \u001b[38;5;241m=\u001b[39m cleaned_arr\n",
      "File \u001b[1;32mc:\\Users\\tomas\\anaconda3\\Lib\\site-packages\\numpy\\lib\\function_base.py:2372\u001b[0m, in \u001b[0;36mvectorize.__call__\u001b[1;34m(self, *args, **kwargs)\u001b[0m\n\u001b[0;32m   2369\u001b[0m     \u001b[38;5;28mself\u001b[39m\u001b[38;5;241m.\u001b[39m_init_stage_2(\u001b[38;5;241m*\u001b[39margs, \u001b[38;5;241m*\u001b[39m\u001b[38;5;241m*\u001b[39mkwargs)\n\u001b[0;32m   2370\u001b[0m     \u001b[38;5;28;01mreturn\u001b[39;00m \u001b[38;5;28mself\u001b[39m\n\u001b[1;32m-> 2372\u001b[0m \u001b[38;5;28;01mreturn\u001b[39;00m \u001b[38;5;28mself\u001b[39m\u001b[38;5;241m.\u001b[39m_call_as_normal(\u001b[38;5;241m*\u001b[39margs, \u001b[38;5;241m*\u001b[39m\u001b[38;5;241m*\u001b[39mkwargs)\n",
      "File \u001b[1;32mc:\\Users\\tomas\\anaconda3\\Lib\\site-packages\\numpy\\lib\\function_base.py:2365\u001b[0m, in \u001b[0;36mvectorize._call_as_normal\u001b[1;34m(self, *args, **kwargs)\u001b[0m\n\u001b[0;32m   2362\u001b[0m     vargs \u001b[38;5;241m=\u001b[39m [args[_i] \u001b[38;5;28;01mfor\u001b[39;00m _i \u001b[38;5;129;01min\u001b[39;00m inds]\n\u001b[0;32m   2363\u001b[0m     vargs\u001b[38;5;241m.\u001b[39mextend([kwargs[_n] \u001b[38;5;28;01mfor\u001b[39;00m _n \u001b[38;5;129;01min\u001b[39;00m names])\n\u001b[1;32m-> 2365\u001b[0m \u001b[38;5;28;01mreturn\u001b[39;00m \u001b[38;5;28mself\u001b[39m\u001b[38;5;241m.\u001b[39m_vectorize_call(func\u001b[38;5;241m=\u001b[39mfunc, args\u001b[38;5;241m=\u001b[39mvargs)\n",
      "File \u001b[1;32mc:\\Users\\tomas\\anaconda3\\Lib\\site-packages\\numpy\\lib\\function_base.py:2455\u001b[0m, in \u001b[0;36mvectorize._vectorize_call\u001b[1;34m(self, func, args)\u001b[0m\n\u001b[0;32m   2452\u001b[0m \u001b[38;5;66;03m# Convert args to object arrays first\u001b[39;00m\n\u001b[0;32m   2453\u001b[0m inputs \u001b[38;5;241m=\u001b[39m [asanyarray(a, dtype\u001b[38;5;241m=\u001b[39m\u001b[38;5;28mobject\u001b[39m) \u001b[38;5;28;01mfor\u001b[39;00m a \u001b[38;5;129;01min\u001b[39;00m args]\n\u001b[1;32m-> 2455\u001b[0m outputs \u001b[38;5;241m=\u001b[39m ufunc(\u001b[38;5;241m*\u001b[39minputs)\n\u001b[0;32m   2457\u001b[0m \u001b[38;5;28;01mif\u001b[39;00m ufunc\u001b[38;5;241m.\u001b[39mnout \u001b[38;5;241m==\u001b[39m \u001b[38;5;241m1\u001b[39m:\n\u001b[0;32m   2458\u001b[0m     res \u001b[38;5;241m=\u001b[39m asanyarray(outputs, dtype\u001b[38;5;241m=\u001b[39motypes[\u001b[38;5;241m0\u001b[39m])\n",
      "Cell \u001b[1;32mIn[38], line 9\u001b[0m, in \u001b[0;36mtext_pre.<locals>.<lambda>\u001b[1;34m(x)\u001b[0m\n\u001b[0;32m      6\u001b[0m arr \u001b[38;5;241m=\u001b[39m df[text_cols]\u001b[38;5;241m.\u001b[39mto_numpy()\n\u001b[0;32m      8\u001b[0m \u001b[38;5;66;03m# Funkce pro čištění (vektorizovaná)\u001b[39;00m\n\u001b[1;32m----> 9\u001b[0m vectorized_clean \u001b[38;5;241m=\u001b[39m np\u001b[38;5;241m.\u001b[39mvectorize(\u001b[38;5;28;01mlambda\u001b[39;00m x: re\u001b[38;5;241m.\u001b[39msub(\u001b[38;5;124mr\u001b[39m\u001b[38;5;124m'\u001b[39m\u001b[38;5;124m[!@#$\u001b[39m\u001b[38;5;124m%\u001b[39m\u001b[38;5;124m^]\u001b[39m\u001b[38;5;124m'\u001b[39m, \u001b[38;5;124m'\u001b[39m\u001b[38;5;124m'\u001b[39m, x))\n\u001b[0;32m     11\u001b[0m \u001b[38;5;66;03m# Aplikuj na celou matici\u001b[39;00m\n\u001b[0;32m     12\u001b[0m cleaned_arr \u001b[38;5;241m=\u001b[39m vectorized_clean(arr)\n",
      "File \u001b[1;32mc:\\Users\\tomas\\anaconda3\\Lib\\re\\__init__.py:186\u001b[0m, in \u001b[0;36msub\u001b[1;34m(pattern, repl, string, count, flags)\u001b[0m\n\u001b[0;32m    179\u001b[0m \u001b[38;5;28;01mdef\u001b[39;00m \u001b[38;5;21msub\u001b[39m(pattern, repl, string, count\u001b[38;5;241m=\u001b[39m\u001b[38;5;241m0\u001b[39m, flags\u001b[38;5;241m=\u001b[39m\u001b[38;5;241m0\u001b[39m):\n\u001b[0;32m    180\u001b[0m \u001b[38;5;250m    \u001b[39m\u001b[38;5;124;03m\"\"\"Return the string obtained by replacing the leftmost\u001b[39;00m\n\u001b[0;32m    181\u001b[0m \u001b[38;5;124;03m    non-overlapping occurrences of the pattern in string by the\u001b[39;00m\n\u001b[0;32m    182\u001b[0m \u001b[38;5;124;03m    replacement repl.  repl can be either a string or a callable;\u001b[39;00m\n\u001b[0;32m    183\u001b[0m \u001b[38;5;124;03m    if a string, backslash escapes in it are processed.  If it is\u001b[39;00m\n\u001b[0;32m    184\u001b[0m \u001b[38;5;124;03m    a callable, it's passed the Match object and must return\u001b[39;00m\n\u001b[0;32m    185\u001b[0m \u001b[38;5;124;03m    a replacement string to be used.\"\"\"\u001b[39;00m\n\u001b[1;32m--> 186\u001b[0m     \u001b[38;5;28;01mreturn\u001b[39;00m _compile(pattern, flags)\u001b[38;5;241m.\u001b[39msub(repl, string, count)\n",
      "\u001b[1;31mTypeError\u001b[0m: expected string or bytes-like object, got 'float'"
     ]
    }
   ],
   "source": [
    "%%timeit\n",
    "df4 = text_pre(df)"
   ]
  },
  {
   "cell_type": "code",
   "execution_count": null,
   "id": "558939e3",
   "metadata": {},
   "outputs": [],
   "source": []
  }
 ],
 "metadata": {
  "kernelspec": {
   "display_name": "base",
   "language": "python",
   "name": "python3"
  },
  "language_info": {
   "codemirror_mode": {
    "name": "ipython",
    "version": 3
   },
   "file_extension": ".py",
   "mimetype": "text/x-python",
   "name": "python",
   "nbconvert_exporter": "python",
   "pygments_lexer": "ipython3",
   "version": "3.12.7"
  }
 },
 "nbformat": 4,
 "nbformat_minor": 5
}
